{
 "cells": [
  {
   "cell_type": "markdown",
   "metadata": {
    "colab_type": "text",
    "id": "rQph610BeO4I"
   },
   "source": [
    "# BERT pretraining on Japanese wiki\n",
    "\n",
    "This notebook is assumed to be executed on Colaboratory notebook with TPU.\n",
    "\n",
    "[![Open In Colab](https://colab.research.google.com/assets/colab-badge.svg)](https://colab.research.google.com/drive/14Ky8w5NodVyfk7tm13u6vdaGPl5qvPxL)\n"
   ]
  },
  {
   "cell_type": "code",
   "execution_count": 1,
   "metadata": {
    "colab": {},
    "colab_type": "code",
    "id": "3Cv0EJiZ8vi6"
   },
   "outputs": [
    {
     "ename": "ModuleNotFoundError",
     "evalue": "No module named 'tensorflow'",
     "output_type": "error",
     "traceback": [
      "\u001b[0;31m---------------------------------------------------------------------------\u001b[0m",
      "\u001b[0;31mModuleNotFoundError\u001b[0m                       Traceback (most recent call last)",
      "\u001b[0;32m<ipython-input-1-64156d691fe5>\u001b[0m in \u001b[0;36m<module>\u001b[0;34m()\u001b[0m\n\u001b[0;32m----> 1\u001b[0;31m \u001b[0;32mimport\u001b[0m \u001b[0mtensorflow\u001b[0m \u001b[0;32mas\u001b[0m \u001b[0mtf\u001b[0m\u001b[0;34m\u001b[0m\u001b[0m\n\u001b[0m",
      "\u001b[0;31mModuleNotFoundError\u001b[0m: No module named 'tensorflow'"
     ]
    }
   ],
   "source": [
    "import tensorflow as tf"
   ]
  },
  {
   "cell_type": "code",
   "execution_count": 2,
   "metadata": {
    "colab": {
     "base_uri": "https://localhost:8080/",
     "height": 34
    },
    "colab_type": "code",
    "id": "R3AyT0Fq8yzD",
    "outputId": "71a538d2-f8c9-4621-ab1b-756350d95093"
   },
   "outputs": [
    {
     "data": {
      "text/plain": [
       "'1.12.0'"
      ]
     },
     "execution_count": 2,
     "metadata": {},
     "output_type": "execute_result"
    }
   ],
   "source": [
    "tf.__version__"
   ]
  },
  {
   "cell_type": "markdown",
   "metadata": {
    "colab_type": "text",
    "id": "iQM0ChEhg08g"
   },
   "source": [
    "## Set input and output\n",
    "\n",
    "Need to put `all-maxseq(128|512).tfrecord` data for pre-traning on your GCS bucket.  \n",
    "Trained objects will be saved into a specified GCS bucket."
   ]
  },
  {
   "cell_type": "code",
   "execution_count": 3,
   "metadata": {
    "colab": {},
    "colab_type": "code",
    "id": "54yVw-J4iVq6"
   },
   "outputs": [],
   "source": [
    "INPUT_DATA_GCS = '/home/ubuntu/work/data2/asahi/kiji_bert'"
   ]
  },
  {
   "cell_type": "code",
   "execution_count": 5,
   "metadata": {},
   "outputs": [
    {
     "name": "stdout",
     "output_type": "stream",
     "text": [
      "AA  AF\tAK  AP\tAU  BA\tBF  BK\tBP  BU\tCA  CF\tCK  CP\tCU  DA\tDF\r\n",
      "AB  AG\tAL  AQ\tAV  BB\tBG  BL\tBQ  BV\tCB  CG\tCL  CQ\tCV  DB\tDG\r\n",
      "AC  AH\tAM  AR\tAW  BC\tBH  BM\tBR  BW\tCC  CH\tCM  CR\tCW  DC\r\n",
      "AD  AI\tAN  AS\tAX  BD\tBI  BN\tBS  BX\tCD  CI\tCN  CS\tCX  DD\r\n",
      "AE  AJ\tAO  AT\tAY  BE\tBJ  BO\tBT  BY\tCE  CJ\tCO  CT\tCY  DE\r\n"
     ]
    }
   ],
   "source": [
    "! ls /home/ubuntu/work/data2/asahi/kiji_bert/"
   ]
  },
  {
   "cell_type": "code",
   "execution_count": 6,
   "metadata": {
    "colab": {},
    "colab_type": "code",
    "id": "V3-OQkauSdXe"
   },
   "outputs": [],
   "source": [
    "TARGET_DIRS = [\n",
    " 'AA', 'AB', 'AC', 'AD', 'AE', 'AF', 'AG', 'AH', 'AI', 'AJ', 'AK', 'AL', 'AM', 'AN', 'AO', 'AP', 'AQ', 'AR', 'AS', 'AT', 'AU', 'AV', 'AW', 'AX', 'AY', \n",
    " 'BA', 'BB', 'BC', 'BD', 'BE', 'BF', 'BG', 'BH', 'BI', 'BJ', 'BK', 'BL', 'BM', 'BN', 'BO', 'BP', 'BQ', 'BR', 'BS', 'BT', 'BU', 'BV', 'BW', 'BX', 'BY', 'BZ',\n",
    " 'CA', 'CB', 'CC', 'CD', 'CE', 'CF', 'CG', 'CH', 'CI', 'CJ', 'CK', 'CL', 'CM', 'CN', 'CO', 'CP', 'CQ', 'CR', 'CS', 'CT', 'CU', 'CV', 'CW', 'CX', 'CY', 'CZ',    \n",
    " 'DA', 'DB', 'DC', 'DD', 'DE', 'DF', 'DG'\n",
    "]"
   ]
  },
  {
   "cell_type": "code",
   "execution_count": 7,
   "metadata": {
    "colab": {},
    "colab_type": "code",
    "id": "BG46L7cKB9uT"
   },
   "outputs": [],
   "source": [
    "# MAX_SEQ_LEN = 128\n",
    "MAX_SEQ_LEN = 512"
   ]
  },
  {
   "cell_type": "code",
   "execution_count": 8,
   "metadata": {
    "colab": {},
    "colab_type": "code",
    "id": "sa9C1sAdS0tZ"
   },
   "outputs": [
    {
     "data": {
      "text/plain": [
       "'/home/ubuntu/work/data2/asahi/kiji_bert/AA/all-maxseq512.tfrecord,/home/ubuntu/work/data2/asahi/kiji_bert/AB/all-maxseq512.tfrecord,/home/ubuntu/work/data2/asahi/kiji_bert/AC/all-maxseq512.tfrecord,/home/ubuntu/work/data2/asahi/kiji_bert/AD/all-maxseq512.tfrecord,/home/ubuntu/work/data2/asahi/kiji_bert/AE/all-maxseq512.tfrecord,/home/ubuntu/work/data2/asahi/kiji_bert/AF/all-maxseq512.tfrecord,/home/ubuntu/work/data2/asahi/kiji_bert/AG/all-maxseq512.tfrecord,/home/ubuntu/work/data2/asahi/kiji_bert/AH/all-maxseq512.tfrecord,/home/ubuntu/work/data2/asahi/kiji_bert/AI/all-maxseq512.tfrecord,/home/ubuntu/work/data2/asahi/kiji_bert/AJ/all-maxseq512.tfrecord,/home/ubuntu/work/data2/asahi/kiji_bert/AK/all-maxseq512.tfrecord,/home/ubuntu/work/data2/asahi/kiji_bert/AL/all-maxseq512.tfrecord,/home/ubuntu/work/data2/asahi/kiji_bert/AM/all-maxseq512.tfrecord,/home/ubuntu/work/data2/asahi/kiji_bert/AN/all-maxseq512.tfrecord,/home/ubuntu/work/data2/asahi/kiji_bert/AO/all-maxseq512.tfrecord,/home/ubuntu/work/data2/asahi/kiji_bert/AP/all-maxseq512.tfrecord,/home/ubuntu/work/data2/asahi/kiji_bert/AQ/all-maxseq512.tfrecord,/home/ubuntu/work/data2/asahi/kiji_bert/AR/all-maxseq512.tfrecord,/home/ubuntu/work/data2/asahi/kiji_bert/AS/all-maxseq512.tfrecord,/home/ubuntu/work/data2/asahi/kiji_bert/AT/all-maxseq512.tfrecord,/home/ubuntu/work/data2/asahi/kiji_bert/AU/all-maxseq512.tfrecord,/home/ubuntu/work/data2/asahi/kiji_bert/AV/all-maxseq512.tfrecord,/home/ubuntu/work/data2/asahi/kiji_bert/AW/all-maxseq512.tfrecord,/home/ubuntu/work/data2/asahi/kiji_bert/AX/all-maxseq512.tfrecord,/home/ubuntu/work/data2/asahi/kiji_bert/AY/all-maxseq512.tfrecord,/home/ubuntu/work/data2/asahi/kiji_bert/AZ/all-maxseq512.tfrecord,/home/ubuntu/work/data2/asahi/kiji_bert/BA/all-maxseq512.tfrecord,/home/ubuntu/work/data2/asahi/kiji_bert/BB/all-maxseq512.tfrecord,/home/ubuntu/work/data2/asahi/kiji_bert/BC/all-maxseq512.tfrecord,/home/ubuntu/work/data2/asahi/kiji_bert/BD/all-maxseq512.tfrecord,/home/ubuntu/work/data2/asahi/kiji_bert/BE/all-maxseq512.tfrecord,/home/ubuntu/work/data2/asahi/kiji_bert/BF/all-maxseq512.tfrecord,/home/ubuntu/work/data2/asahi/kiji_bert/BG/all-maxseq512.tfrecord,/home/ubuntu/work/data2/asahi/kiji_bert/BH/all-maxseq512.tfrecord,/home/ubuntu/work/data2/asahi/kiji_bert/BI/all-maxseq512.tfrecord,/home/ubuntu/work/data2/asahi/kiji_bert/BJ/all-maxseq512.tfrecord,/home/ubuntu/work/data2/asahi/kiji_bert/BK/all-maxseq512.tfrecord,/home/ubuntu/work/data2/asahi/kiji_bert/BL/all-maxseq512.tfrecord,/home/ubuntu/work/data2/asahi/kiji_bert/BM/all-maxseq512.tfrecord,/home/ubuntu/work/data2/asahi/kiji_bert/BN/all-maxseq512.tfrecord,/home/ubuntu/work/data2/asahi/kiji_bert/BO/all-maxseq512.tfrecord,/home/ubuntu/work/data2/asahi/kiji_bert/BP/all-maxseq512.tfrecord,/home/ubuntu/work/data2/asahi/kiji_bert/BQ/all-maxseq512.tfrecord,/home/ubuntu/work/data2/asahi/kiji_bert/BR/all-maxseq512.tfrecord,/home/ubuntu/work/data2/asahi/kiji_bert/BS/all-maxseq512.tfrecord,/home/ubuntu/work/data2/asahi/kiji_bert/BT/all-maxseq512.tfrecord,/home/ubuntu/work/data2/asahi/kiji_bert/BU/all-maxseq512.tfrecord,/home/ubuntu/work/data2/asahi/kiji_bert/BV/all-maxseq512.tfrecord,/home/ubuntu/work/data2/asahi/kiji_bert/BW/all-maxseq512.tfrecord,/home/ubuntu/work/data2/asahi/kiji_bert/BX/all-maxseq512.tfrecord,/home/ubuntu/work/data2/asahi/kiji_bert/BY/all-maxseq512.tfrecord,/home/ubuntu/work/data2/asahi/kiji_bert/BZ/all-maxseq512.tfrecord,/home/ubuntu/work/data2/asahi/kiji_bert/CA/all-maxseq512.tfrecord,/home/ubuntu/work/data2/asahi/kiji_bert/CB/all-maxseq512.tfrecord,/home/ubuntu/work/data2/asahi/kiji_bert/CC/all-maxseq512.tfrecord,/home/ubuntu/work/data2/asahi/kiji_bert/CD/all-maxseq512.tfrecord,/home/ubuntu/work/data2/asahi/kiji_bert/CE/all-maxseq512.tfrecord,/home/ubuntu/work/data2/asahi/kiji_bert/CF/all-maxseq512.tfrecord,/home/ubuntu/work/data2/asahi/kiji_bert/CG/all-maxseq512.tfrecord,/home/ubuntu/work/data2/asahi/kiji_bert/CH/all-maxseq512.tfrecord,/home/ubuntu/work/data2/asahi/kiji_bert/CI/all-maxseq512.tfrecord,/home/ubuntu/work/data2/asahi/kiji_bert/CJ/all-maxseq512.tfrecord,/home/ubuntu/work/data2/asahi/kiji_bert/CK/all-maxseq512.tfrecord,/home/ubuntu/work/data2/asahi/kiji_bert/CL/all-maxseq512.tfrecord,/home/ubuntu/work/data2/asahi/kiji_bert/CM/all-maxseq512.tfrecord,/home/ubuntu/work/data2/asahi/kiji_bert/CN/all-maxseq512.tfrecord,/home/ubuntu/work/data2/asahi/kiji_bert/CO/all-maxseq512.tfrecord,/home/ubuntu/work/data2/asahi/kiji_bert/CP/all-maxseq512.tfrecord,/home/ubuntu/work/data2/asahi/kiji_bert/CQ/all-maxseq512.tfrecord,/home/ubuntu/work/data2/asahi/kiji_bert/CR/all-maxseq512.tfrecord,/home/ubuntu/work/data2/asahi/kiji_bert/CS/all-maxseq512.tfrecord,/home/ubuntu/work/data2/asahi/kiji_bert/CT/all-maxseq512.tfrecord,/home/ubuntu/work/data2/asahi/kiji_bert/CU/all-maxseq512.tfrecord,/home/ubuntu/work/data2/asahi/kiji_bert/CV/all-maxseq512.tfrecord,/home/ubuntu/work/data2/asahi/kiji_bert/CW/all-maxseq512.tfrecord,/home/ubuntu/work/data2/asahi/kiji_bert/CX/all-maxseq512.tfrecord,/home/ubuntu/work/data2/asahi/kiji_bert/CY/all-maxseq512.tfrecord,/home/ubuntu/work/data2/asahi/kiji_bert/CZ/all-maxseq512.tfrecord,/home/ubuntu/work/data2/asahi/kiji_bert/DA/all-maxseq512.tfrecord,/home/ubuntu/work/data2/asahi/kiji_bert/DB/all-maxseq512.tfrecord,/home/ubuntu/work/data2/asahi/kiji_bert/DC/all-maxseq512.tfrecord,/home/ubuntu/work/data2/asahi/kiji_bert/DD/all-maxseq512.tfrecord,/home/ubuntu/work/data2/asahi/kiji_bert/DE/all-maxseq512.tfrecord,/home/ubuntu/work/data2/asahi/kiji_bert/DF/all-maxseq512.tfrecord,/home/ubuntu/work/data2/asahi/kiji_bert/DG/all-maxseq512.tfrecord'"
      ]
     },
     "execution_count": 8,
     "metadata": {},
     "output_type": "execute_result"
    }
   ],
   "source": [
    "INPUT_FILE = ','.join( [ '{}/{}/all-maxseq{}.tfrecord'.format(INPUT_DATA_GCS, elem, MAX_SEQ_LEN) for elem in TARGET_DIRS] )\n",
    "INPUT_FILE"
   ]
  },
  {
   "cell_type": "code",
   "execution_count": 9,
   "metadata": {
    "colab": {},
    "colab_type": "code",
    "id": "xK-4oH2ViNzW"
   },
   "outputs": [],
   "source": [
    "OUTPUT_GCS = '/home/ubuntu/work/bert-japanese/pretrain/asahi'"
   ]
  },
  {
   "cell_type": "markdown",
   "metadata": {
    "colab_type": "text",
    "id": "jQlc9NQOjihY"
   },
   "source": [
    "## Execute pre-training\n",
    "\n",
    "NOTE that you have to give `service-xxx@cloud-tpu.iam.gserviceaccount.com` the following permissions on the specified GCS bucket:\n",
    "- Storage Legacy Bucket Reader\n",
    "- Storage Legacy Bucket Writer\n",
    "- Storage Legacy Object Reader\n",
    "- Storage Object Viewer\n"
   ]
  },
  {
   "cell_type": "code",
   "execution_count": 10,
   "metadata": {
    "colab": {
     "base_uri": "https://localhost:8080/",
     "height": 14011
    },
    "colab_type": "code",
    "id": "ejRY72r3BL4W",
    "outputId": "eb655aee-4ea0-4c14-c43a-ac0fbf596ee1"
   },
   "outputs": [],
   "source": [
    "# !python bert-japanese/src/run_pretraining.py \\\n",
    "#   --input_file={INPUT_FILE} \\\n",
    "#   --output_dir={OUTPUT_GCS} \\\n",
    "#   --use_tpu=True \\\n",
    "#   --tpu_name={TPU_ADDRESS} \\\n",
    "#   --num_tpu_cores=8 \\\n",
    "#   --do_train=True \\\n",
    "#   --do_eval=True \\\n",
    "#   --train_batch_size=256 \\\n",
    "#   --max_seq_length={MAX_SEQ_LEN} \\\n",
    "#   --max_predictions_per_seq=20 \\\n",
    "#   --num_train_steps=1000000 \\\n",
    "#   --num_warmup_steps=10000 \\\n",
    "#   --save_checkpoints_steps=10000 \\\n",
    "#   --learning_rate=1e-4"
   ]
  },
  {
   "cell_type": "code",
   "execution_count": 11,
   "metadata": {
    "colab": {
     "base_uri": "https://localhost:8080/",
     "height": 6820
    },
    "colab_type": "code",
    "id": "d3OEEo3XR93B",
    "outputId": "5ad89f26-d8ed-402a-a670-9c8ef7d3ce22"
   },
   "outputs": [
    {
     "name": "stdout",
     "output_type": "stream",
     "text": [
      "Traceback (most recent call last):\n",
      "  File \"../src/run_pretraining.py\", line 497, in <module>\n",
      "    tf.app.run()\n",
      "  File \"/home/ubuntu/anaconda3/envs/tensorflow_p36/lib/python3.6/site-packages/tensorflow/python/platform/app.py\", line 125, in run\n",
      "    _sys.exit(main(argv))\n",
      "  File \"../src/run_pretraining.py\", line 423, in main\n",
      "    input_files.extend(tf.gfile.Glob(input_pattern))\n",
      "  File \"/home/ubuntu/anaconda3/envs/tensorflow_p36/lib/python3.6/site-packages/tensorflow/python/lib/io/file_io.py\", line 342, in get_matching_files\n",
      "    for single_filename in filename\n",
      "  File \"/home/ubuntu/anaconda3/envs/tensorflow_p36/lib/python3.6/site-packages/tensorflow/python/framework/errors_impl.py\", line 528, in __exit__\n",
      "    c_api.TF_GetCode(self.status.status))\n",
      "tensorflow.python.framework.errors_impl.NotFoundError: /home/ubuntu/work/data2/asahi/kiji_bert/AZ; No such file or directory\n",
      "CPU times: user 12 ms, sys: 24 ms, total: 36 ms\n",
      "Wall time: 1.63 s\n"
     ]
    }
   ],
   "source": [
    "%%time\n",
    "\n",
    "!python ../src/run_pretraining.py \\\n",
    "  --input_file={INPUT_FILE} \\\n",
    "  --output_dir={OUTPUT_GCS} \\\n",
    "  --use_tpu=False \\\n",
    "  --do_train=True \\\n",
    "  --do_eval=True \\\n",
    "  --train_batch_size=8 \\\n",
    "  --max_seq_length={MAX_SEQ_LEN} \\\n",
    "  --max_predictions_per_seq=20 \\\n",
    "  --num_train_steps=1400000 \\\n",
    "  --num_warmup_steps=10000 \\\n",
    "  --save_checkpoints_steps=10000 \\\n",
    "  --learning_rate=1e-4"
   ]
  },
  {
   "cell_type": "code",
   "execution_count": 0,
   "metadata": {
    "colab": {},
    "colab_type": "code",
    "id": "GBNgHk-s4epb"
   },
   "outputs": [],
   "source": []
  }
 ],
 "metadata": {
  "accelerator": "TPU",
  "colab": {
   "collapsed_sections": [],
   "name": "pretraining.ipnyb",
   "provenance": [],
   "version": "0.3.2"
  },
  "kernelspec": {
   "display_name": "Python 3",
   "language": "python",
   "name": "python3"
  },
  "language_info": {
   "codemirror_mode": {
    "name": "ipython",
    "version": 3
   },
   "file_extension": ".py",
   "mimetype": "text/x-python",
   "name": "python",
   "nbconvert_exporter": "python",
   "pygments_lexer": "ipython3",
   "version": "3.6.4"
  }
 },
 "nbformat": 4,
 "nbformat_minor": 1
}
